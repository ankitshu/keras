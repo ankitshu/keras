{
 "cells": [
  {
   "cell_type": "code",
   "execution_count": 23,
   "metadata": {},
   "outputs": [
    {
     "name": "stderr",
     "output_type": "stream",
     "text": [
      "/home/shukla/anaconda3/envs/tensorflowcpu/lib/python3.6/site-packages/keras/models.py:848: UserWarning: The `nb_epoch` argument in `fit` has been renamed `epochs`.\n",
      "  warnings.warn('The `nb_epoch` argument in `fit` '\n"
     ]
    },
    {
     "name": "stdout",
     "output_type": "stream",
     "text": [
      "Train on 60000 samples, validate on 10000 samples\n",
      "Epoch 1/2\n",
      "60000/60000 [==============================] - 3s - loss: 1.2990 - acc: 0.6944 - val_loss: 0.8200 - val_acc: 0.8276\n",
      "Epoch 2/2\n",
      "60000/60000 [==============================] - 1s - loss: 0.7198 - acc: 0.8398 - val_loss: 0.6107 - val_acc: 0.8590\n",
      "Test score: 0.6107479702\n",
      "Test accuracy: 0.859\n"
     ]
    }
   ],
   "source": [
    "from keras.datasets import mnist\n",
    "from keras.utils import np_utils\n",
    "from keras.models import Sequential\n",
    "from keras.layers import Dense, Activation\n",
    "(x_train,y_train),(x_test,y_test)=mnist.load_data()\n",
    "#print(x_train.shape,x_test.shape)\n",
    "input_dim=784#28*28\n",
    "x_train=x_train.reshape(60000,input_dim)\n",
    "x_test=x_test.reshape(10000,input_dim)\n",
    "x_train=x_train/255\n",
    "x_test=x_test/255\n",
    "output_dim = nb_classes = 10\n",
    "Y_train=np_utils.to_categorical(y_train,nb_classes)\n",
    "Y_test=np_utils.to_categorical(y_test,nb_classes)\n",
    "\n",
    "model = Sequential()\n",
    "model.add(Dense(output_dim, input_dim=input_dim, activation='softmax'))\n",
    "batch_size = 128\n",
    "nb_epoch = 2\n",
    "model.compile(optimizer='sgd', loss='categorical_crossentropy', metrics=['accuracy'])\n",
    "history = model.fit(x_train, Y_train, batch_size=batch_size, nb_epoch=nb_epoch,verbose=1, validation_data=(x_test, Y_test))\n",
    "score = model.evaluate(x_test, Y_test, verbose=0)\n",
    "print('Test score:', score[0])\n",
    "print('Test accuracy:', score[1])"
   ]
  },
  {
   "cell_type": "code",
   "execution_count": null,
   "metadata": {
    "collapsed": true
   },
   "outputs": [],
   "source": []
  }
 ],
 "metadata": {
  "kernelspec": {
   "display_name": "Python 3",
   "language": "python",
   "name": "python3"
  },
  "language_info": {
   "codemirror_mode": {
    "name": "ipython",
    "version": 3
   },
   "file_extension": ".py",
   "mimetype": "text/x-python",
   "name": "python",
   "nbconvert_exporter": "python",
   "pygments_lexer": "ipython3",
   "version": "3.6.1"
  }
 },
 "nbformat": 4,
 "nbformat_minor": 2
}
